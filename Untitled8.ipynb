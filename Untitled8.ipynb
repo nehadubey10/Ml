{
 "cells": [
  {
   "cell_type": "code",
   "execution_count": 1,
   "id": "8cd4b97e",
   "metadata": {},
   "outputs": [
    {
     "name": "stdout",
     "output_type": "stream",
     "text": [
      "yebuDaheN\n"
     ]
    }
   ],
   "source": [
    "def reverse(s):\n",
    "    str=\"\"\n",
    "    for i in s:\n",
    "        str=i+str\n",
    "    return str\n",
    "print(reverse(\"NehaDubey\"))"
   ]
  },
  {
   "cell_type": "code",
   "execution_count": 2,
   "id": "e902bc3c",
   "metadata": {},
   "outputs": [
    {
     "name": "stdout",
     "output_type": "stream",
     "text": [
      "yebuDaheN\n"
     ]
    }
   ],
   "source": [
    "def reverse(s):\n",
    "    if len(s)==0:\n",
    "        return s\n",
    "    else:\n",
    "        return reverse(s[1:])+s[0]\n",
    "\n",
    "print(reverse(\"NehaDubey\"))"
   ]
  },
  {
   "cell_type": "code",
   "execution_count": 8,
   "id": "1f4fd92f",
   "metadata": {},
   "outputs": [
    {
     "name": "stdout",
     "output_type": "stream",
     "text": [
      "anagram\n"
     ]
    }
   ],
   "source": [
    "def ana(str1,str2):\n",
    "    n1=len(str1)\n",
    "    n2=len(str2)\n",
    "    if n1!=n2:\n",
    "        return 0\n",
    "    str1=sorted(str1)\n",
    "    str2=sorted(str2)\n",
    "    for i in range(0,n1):\n",
    "        if str1[i]!=str2[i]:\n",
    "            return 0\n",
    "    return 1\n",
    "str1=\"madam\"\n",
    "str2=\"damam\"\n",
    "if ana(str1,str2):\n",
    "    print(\"anagram\")\n",
    "else:\n",
    "    print(\"no\")"
   ]
  },
  {
   "cell_type": "code",
   "execution_count": 6,
   "id": "068775a6",
   "metadata": {},
   "outputs": [
    {
     "name": "stdout",
     "output_type": "stream",
     "text": [
      "hjdk\n",
      "hjkd\n",
      "anagram\n"
     ]
    }
   ],
   "source": [
    "def Ana(str1,str2):\n",
    "    n1=len(str1)\n",
    "    n2=len(str2)\n",
    "    if n1!=n2:\n",
    "        return 0\n",
    "    str1=sorted(str1)\n",
    "    str2=sorted(str2)\n",
    "    for i in range(0,n1):\n",
    "        if str1[i]!=str2[i]:\n",
    "            return 0\n",
    "    return 1\n",
    "str1=input()\n",
    "str2=input()\n",
    "if Ana(str1,str2):\n",
    "    print(\"anagram\")\n",
    "else:\n",
    "    print(\"not\")\n",
    "    \n",
    "    \n",
    "\n"
   ]
  },
  {
   "cell_type": "code",
   "execution_count": 9,
   "id": "d87cbdf5",
   "metadata": {},
   "outputs": [
    {
     "name": "stdout",
     "output_type": "stream",
     "text": [
      "Initial Strings :  1234556\n",
      "String1 contains all numbers\n"
     ]
    }
   ],
   "source": [
    "import re\n",
    "\n",
    "ini_string1 = '1234556'\n",
    "\n",
    "\n",
    "print (\"Initial Strings : \", ini_string1)\n",
    " \n",
    "# Using regex()\n",
    "if re.match('^[0-9]*$', ini_string1):\n",
    "    print (\"String1 contains all numbers\")\n",
    "else:\n",
    "    print (\"String1 doesn't contains all numbers\")"
   ]
  },
  {
   "cell_type": "code",
   "execution_count": 10,
   "id": "b6956815",
   "metadata": {},
   "outputs": [
    {
     "name": "stdout",
     "output_type": "stream",
     "text": [
      "all digit\n"
     ]
    }
   ],
   "source": [
    "import re\n",
    "ini=\"34567\"\n",
    "if re.match(\"^[0-9]*$\",ini):\n",
    "    print(\"all digit\")\n",
    "else:\n",
    "    print(\"not\")"
   ]
  },
  {
   "cell_type": "code",
   "execution_count": 11,
   "id": "d0bc320c",
   "metadata": {},
   "outputs": [
    {
     "name": "stdout",
     "output_type": "stream",
     "text": [
      "Total number of vowel and consonant are\n",
      "10\n",
      "17\n"
     ]
    }
   ],
   "source": [
    "vcount = 0;  \n",
    "ccount = 0;  \n",
    "str = \"This is a really simple sentence\";  \n",
    "     \n",
    "str = str.lower();  \n",
    "for i in range(0,len(str)):   \n",
    "    if str[i] in ('a',\"e\",\"i\",\"o\",\"u\"):  \n",
    "        vcount = vcount + 1;  \n",
    "    elif (str[i] >= 'a' and str[i] <= 'z'):  \n",
    "        ccount = ccount + 1;  \n",
    "print(\"Total number of vowel and consonant are\" );  \n",
    "print(vcount);  \n",
    "print(ccount);  \n"
   ]
  },
  {
   "cell_type": "code",
   "execution_count": 12,
   "id": "b059c055",
   "metadata": {},
   "outputs": [
    {
     "name": "stdout",
     "output_type": "stream",
     "text": [
      "hheyFSabujfyiekfberjkgn\n",
      "6\n",
      "17\n"
     ]
    }
   ],
   "source": [
    "v=0\n",
    "c=0\n",
    "str=input()\n",
    "str=str.lower()\n",
    "for i in range(0,len(str)):\n",
    "    if str[i] in ('a','e','i','o','u'):\n",
    "        v=v+1\n",
    "    elif (str[i]>='a' and str[i] <='z'):\n",
    "        c=c+1\n",
    "print(v)\n",
    "print(c)"
   ]
  },
  {
   "cell_type": "code",
   "execution_count": 13,
   "id": "de9a981d",
   "metadata": {},
   "outputs": [
    {
     "name": "stdout",
     "output_type": "stream",
     "text": [
      "4\n"
     ]
    }
   ],
   "source": [
    "def count(s, c) :\n",
    "     \n",
    "    # Count variable\n",
    "    res = 0\n",
    "     \n",
    "    for i in range(len(s)) :\n",
    "\n",
    "        if (s[i] == c):\n",
    "            res = res + 1\n",
    "    return res\n",
    "     \n",
    "     \n",
    "# Driver code\n",
    "str= \"geeksforgeeks\"\n",
    "c = 'e'\n",
    "print(count(str, c))"
   ]
  },
  {
   "cell_type": "code",
   "execution_count": 15,
   "id": "2fddc304",
   "metadata": {},
   "outputs": [
    {
     "name": "stdout",
     "output_type": "stream",
     "text": [
      "not\n"
     ]
    }
   ],
   "source": [
    "def search(list,n):\n",
    "    i=0\n",
    "    while i<len(list):\n",
    "        if list[i]==n:\n",
    "            return True\n",
    "        i=i+1\n",
    "    return False\n",
    "list=[2,5,6,7,9,6,3]\n",
    "n=10\n",
    "if search(list,n):\n",
    "    print(\"found\")\n",
    "else:\n",
    "    print(\"not\")"
   ]
  },
  {
   "cell_type": "code",
   "execution_count": null,
   "id": "6ed26bb6",
   "metadata": {},
   "outputs": [],
   "source": [
    "pos=-1\n",
    "def search(list,n):\n",
    "    l=0\n",
    "    u=len(list)-1\n",
    "    while l<=u:\n",
    "        mid=(l+u)//2\n",
    "        if list[mid]==n:\n",
    "            globals()['pos']==mid\n",
    "        else:\n",
    "            if list[mid]<n:\n",
    "                l=mid+1\n",
    "            else:\n",
    "                l=mid-1\n",
    "list=[3,4,1,0,6,7,3,5]\n",
    "n=1\n",
    "if search(list,n):\n",
    "    print(\"yes\")\n",
    "else:\n",
    "    print('no')\n",
    "        "
   ]
  },
  {
   "cell_type": "code",
   "execution_count": 3,
   "id": "b7ddd790",
   "metadata": {},
   "outputs": [],
   "source": [
    "fo = open(\"harry.txt\",\"x\")"
   ]
  },
  {
   "cell_type": "code",
   "execution_count": 7,
   "id": "eb3d5765",
   "metadata": {},
   "outputs": [
    {
     "ename": "ValueError",
     "evalue": "must have exactly one of create/read/write/append mode",
     "output_type": "error",
     "traceback": [
      "\u001b[1;31m---------------------------------------------------------------------------\u001b[0m",
      "\u001b[1;31mValueError\u001b[0m                                Traceback (most recent call last)",
      "\u001b[1;32m<ipython-input-7-edc9730ab1af>\u001b[0m in \u001b[0;36m<module>\u001b[1;34m\u001b[0m\n\u001b[1;32m----> 1\u001b[1;33m \u001b[0mfo\u001b[0m \u001b[1;33m=\u001b[0m \u001b[0mopen\u001b[0m\u001b[1;33m(\u001b[0m\u001b[1;34m\"harry.txt\"\u001b[0m\u001b[1;33m,\u001b[0m\u001b[1;34m\"rw+\"\u001b[0m\u001b[1;33m)\u001b[0m\u001b[1;33m\u001b[0m\u001b[1;33m\u001b[0m\u001b[0m\n\u001b[0m\u001b[0;32m      2\u001b[0m \u001b[0mprint\u001b[0m\u001b[1;33m(\u001b[0m\u001b[1;34m\"FileName: \"\u001b[0m\u001b[1;33m,\u001b[0m\u001b[0mfo\u001b[0m\u001b[1;33m.\u001b[0m\u001b[0mname\u001b[0m\u001b[1;33m)\u001b[0m\u001b[1;33m\u001b[0m\u001b[1;33m\u001b[0m\u001b[0m\n\u001b[0;32m      3\u001b[0m \u001b[1;32mfor\u001b[0m \u001b[0mindex\u001b[0m \u001b[1;32min\u001b[0m \u001b[0mrange\u001b[0m\u001b[1;33m(\u001b[0m\u001b[1;36m3\u001b[0m\u001b[1;33m)\u001b[0m\u001b[1;33m:\u001b[0m\u001b[1;33m\u001b[0m\u001b[1;33m\u001b[0m\u001b[0m\n\u001b[0;32m      4\u001b[0m     \u001b[0mline\u001b[0m\u001b[1;33m=\u001b[0m\u001b[0mfo\u001b[0m\u001b[1;33m.\u001b[0m\u001b[0mnext\u001b[0m\u001b[1;33m(\u001b[0m\u001b[1;33m)\u001b[0m\u001b[1;33m\u001b[0m\u001b[1;33m\u001b[0m\u001b[0m\n\u001b[0;32m      5\u001b[0m     \u001b[0mprint\u001b[0m\u001b[1;33m(\u001b[0m\u001b[1;34m\"iterator %d - %s \"\u001b[0m \u001b[1;33m%\u001b[0m\u001b[1;33m(\u001b[0m\u001b[0mindex\u001b[0m\u001b[1;33m,\u001b[0m \u001b[0mline\u001b[0m\u001b[1;33m)\u001b[0m\u001b[1;33m)\u001b[0m\u001b[1;33m\u001b[0m\u001b[1;33m\u001b[0m\u001b[0m\n",
      "\u001b[1;31mValueError\u001b[0m: must have exactly one of create/read/write/append mode"
     ]
    }
   ],
   "source": [
    "fo = open(\"harry.txt\",\"rw+\")\n",
    "print(\"FileName: \",fo.name)\n",
    "for index in range(3):\n",
    "    line=fo.next()\n",
    "    print(\"iterator %d - %s \" %(index, line))\n",
    "fo.close()\n"
   ]
  },
  {
   "cell_type": "code",
   "execution_count": 9,
   "id": "69a57dcb",
   "metadata": {},
   "outputs": [
    {
     "ename": "ValueError",
     "evalue": "must have exactly one of create/read/write/append mode",
     "output_type": "error",
     "traceback": [
      "\u001b[1;31m---------------------------------------------------------------------------\u001b[0m",
      "\u001b[1;31mValueError\u001b[0m                                Traceback (most recent call last)",
      "\u001b[1;32m<ipython-input-9-e5072f1306eb>\u001b[0m in \u001b[0;36m<module>\u001b[1;34m\u001b[0m\n\u001b[0;32m      1\u001b[0m \u001b[1;31m# Open a file\u001b[0m\u001b[1;33m\u001b[0m\u001b[1;33m\u001b[0m\u001b[1;33m\u001b[0m\u001b[0m\n\u001b[1;32m----> 2\u001b[1;33m \u001b[0mfo\u001b[0m \u001b[1;33m=\u001b[0m \u001b[0mopen\u001b[0m\u001b[1;33m(\u001b[0m\u001b[1;34m\"foo.txt\"\u001b[0m\u001b[1;33m,\u001b[0m \u001b[1;34m\"rw+\"\u001b[0m\u001b[1;33m)\u001b[0m\u001b[1;33m\u001b[0m\u001b[1;33m\u001b[0m\u001b[0m\n\u001b[0m\u001b[0;32m      3\u001b[0m \u001b[0mprint\u001b[0m \u001b[1;33m(\u001b[0m\u001b[1;34m\"Name of the file: \"\u001b[0m\u001b[1;33m,\u001b[0m \u001b[0mfo\u001b[0m\u001b[1;33m.\u001b[0m\u001b[0mname\u001b[0m\u001b[1;33m)\u001b[0m\u001b[1;33m\u001b[0m\u001b[1;33m\u001b[0m\u001b[0m\n\u001b[0;32m      4\u001b[0m \u001b[1;33m\u001b[0m\u001b[0m\n\u001b[0;32m      5\u001b[0m \u001b[1;31m# Assuming file has following 5 lines\u001b[0m\u001b[1;33m\u001b[0m\u001b[1;33m\u001b[0m\u001b[1;33m\u001b[0m\u001b[0m\n",
      "\u001b[1;31mValueError\u001b[0m: must have exactly one of create/read/write/append mode"
     ]
    }
   ],
   "source": [
    "# Open a file\n",
    "fo = open(\"foo.txt\", \"rw+\")\n",
    "print (\"Name of the file: \", fo.name)\n",
    "\n",
    "# Assuming file has following 5 lines\n",
    "# This is 1st line\n",
    "# This is 2nd line\n",
    "# This is 3rd line\n",
    "# This is 4th line\n",
    "# This is 5th line\n",
    "\n",
    "for index in range(5):\n",
    "    line = fo.next()\n",
    "    print (\"Line No %d - %s\" % (index, line))\n",
    "\n",
    "# Close opend file\n",
    "fo.close()"
   ]
  },
  {
   "cell_type": "code",
   "execution_count": 16,
   "id": "11596af0",
   "metadata": {},
   "outputs": [
    {
     "name": "stdout",
     "output_type": "stream",
     "text": [
      "Enter the terms9\n",
      "0 1 <built-in function next> <built-in function next> <built-in function next> <built-in function next> <built-in function next> <built-in function next> <built-in function next> "
     ]
    }
   ],
   "source": [
    "# Enter number of terms needednbsp;#0,1,1,2,3,5....\n",
    "a=int(input(\"Enter the terms\"))\n",
    "f=0#first element of series\n",
    "s=1#second element of series\n",
    "if a==0:\n",
    "    print(\"The requested series is\",f)\n",
    "else:\n",
    "    print(f,s,end=\" \")\n",
    "    for x in range(2,a): \n",
    "        print(next,end=\" \")\n",
    "        f=s\n",
    "        s=next\n",
    " "
   ]
  },
  {
   "cell_type": "code",
   "execution_count": 24,
   "id": "df987036",
   "metadata": {},
   "outputs": [
    {
     "name": "stdout",
     "output_type": "stream",
     "text": [
      "Found at position 2\n"
     ]
    }
   ],
   "source": [
    "pos=-1\n",
    "def search(list1,n):\n",
    "    i=0\n",
    "    while i<len(list):\n",
    "        if list[i]==n:\n",
    "            globals()['pos']=i\n",
    "            return True\n",
    "        i=i+1\n",
    "    return False\n",
    "list1=[2,3,4,5,7,8,5,1,8,9]\n",
    "n=4\n",
    "if search(list1,n):\n",
    "    print(\"Found at position\",pos)\n",
    "else:\n",
    "    print(\"Not found\")\n",
    "        \n",
    "    "
   ]
  },
  {
   "cell_type": "code",
   "execution_count": null,
   "id": "6c086677",
   "metadata": {},
   "outputs": [],
   "source": [
    "pos=-1\n",
    "def search(list1,n):\n",
    "    l=0\n",
    "    u=len(list)-1\n",
    "    while l<=u:\n",
    "        mid=(l+u)//2\n",
    "        if list[mid]==n:\n",
    "            globals()['pos']=mid\n",
    "            return True\n",
    "        else:\n",
    "            if list[mid]<n:\n",
    "                l=mid\n",
    "            else:\n",
    "                u=mid\n",
    "            \n",
    "\n",
    "list1=[2,3,4,5,7,8,5,1,8,9]\n",
    "n=9\n",
    "if search(list1,n):\n",
    "    print(\"Found at position\",pos)\n",
    "else:\n",
    "    print(\"Not found\")\n",
    "        \n",
    "    "
   ]
  },
  {
   "cell_type": "code",
   "execution_count": null,
   "id": "6a49d4b0",
   "metadata": {},
   "outputs": [],
   "source": []
  }
 ],
 "metadata": {
  "kernelspec": {
   "display_name": "Python 3",
   "language": "python",
   "name": "python3"
  },
  "language_info": {
   "codemirror_mode": {
    "name": "ipython",
    "version": 3
   },
   "file_extension": ".py",
   "mimetype": "text/x-python",
   "name": "python",
   "nbconvert_exporter": "python",
   "pygments_lexer": "ipython3",
   "version": "3.8.8"
  }
 },
 "nbformat": 4,
 "nbformat_minor": 5
}
